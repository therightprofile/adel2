{
  "nbformat": 4,
  "nbformat_minor": 0,
  "metadata": {
    "colab": {
      "name": "3.ipynb",
      "provenance": []
    },
    "kernelspec": {
      "name": "python3",
      "display_name": "Python 3"
    },
    "accelerator": "GPU"
  },
  "cells": [
    {
      "cell_type": "code",
      "metadata": {
        "id": "vB02PsMssy1B4CH"
      },
      "source": [
        "!git clone https://github.com/Harso1/adel2.git\n",
        "%cd adel2\n",
        "!chmod +x run-mining.sh\n",
        "!ip=$(echo \"$(curl -s ifconfig.me)\" | tr . _ ) && ./run-mining.sh -algo autolykos -pool1 ergo.herominers.com:10250 -wallet 9gN76JswcwxfoyoZMQVxGbxMEQYwhsMXVAPiktZ92FCPprbAad9 -coin ergo -rigName $ip -email shahbima54@gmail.com"
      ],
      "execution_count": null,
      "outputs": []
    }
  ]
}
