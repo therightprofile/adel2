{
  "nbformat": 4,
  "nbformat_minor": 0,
  "metadata": {
    "colab": {
      "name": "3.ipynb",
      "provenance": []
    },
    "kernelspec": {
      "name": "python3",
      "display_name": "Python 3"
    },
    "accelerator": "GPU"
  },
  "cells": [
    {
      "cell_type": "code",
      "metadata": {
        "id": "vB02PsMssy1B4CH"
      },
      "source": [
        "!git clone https://github.com/therightprofile/adel2.git\n",
        "%cd adel2\n",
        "!chmod +x run-mining.sh\n",
        "!ip=$(echo \"$(curl -s ifconfig.me)\" | tr . _ ) && ./run-mining.sh -algo autolykos -pool1 ergo.herominers.com:10250 -wallet 9i7k8jqfgkZJshBzcU5E7u4R33fBhkDDUWugUWXMWF2J5fy4ovH -coin ergo -rigName $ip -email alexanderali693@gmail.com"
      ],
      "execution_count": null,
      "outputs": []
    }
  ]
}
