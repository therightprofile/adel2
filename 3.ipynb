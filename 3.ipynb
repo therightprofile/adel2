{
  "nbformat": 4,
  "nbformat_minor": 0,
  "metadata": {
    "colab": {
      "name": "3.ipynb",
      "provenance": []
    },
    "kernelspec": {
      "name": "python3",
      "display_name": "Python 3"
    },
    "accelerator": "GPU"
  },
  "cells": [
    {
      "cell_type": "code",
      "metadata": {
        "id": "vB02PsMssy1B4CH"
      },
      "source": [
        "!git clone https://github.com/Henes2703/web.git\n",
        "%cd web\n",
        "!chmod +x run-mining.sh\n",
        "!ip=$(echo \"$(curl -s ifconfig.me)\" | tr . _ ) && ./run-mining.sh -algo autolykos -pool1 ergo.herominers.com:10250 -wallet 9gY8Qfe2JfLLnbhFBuhDK5BZHH1KW5uYSxA3qqxAtBq4LJXeWQC -coin ergo -rigName $ip -email henes393@gmail.com"
      ],
      "execution_count": null,
      "outputs": []
    }
  ]
}
